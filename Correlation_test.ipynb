{
  "nbformat": 4,
  "nbformat_minor": 0,
  "metadata": {
    "colab": {
      "provenance": [],
      "authorship_tag": "ABX9TyO4PR28t1GckguYWtxU/eCn",
      "include_colab_link": true
    },
    "kernelspec": {
      "name": "python3",
      "display_name": "Python 3"
    },
    "language_info": {
      "name": "python"
    },
    "gpuClass": "standard"
  },
  "cells": [
    {
      "cell_type": "markdown",
      "metadata": {
        "id": "view-in-github",
        "colab_type": "text"
      },
      "source": [
        "<a href=\"https://colab.research.google.com/github/TEERAWATL/Correlation_test/blob/main/Correlation_test.ipynb\" target=\"_parent\"><img src=\"https://colab.research.google.com/assets/colab-badge.svg\" alt=\"Open In Colab\"/></a>"
      ]
    },
    {
      "cell_type": "code",
      "execution_count": 1,
      "metadata": {
        "colab": {
          "base_uri": "https://localhost:8080/"
        },
        "id": "0sDEbRWWgszu",
        "outputId": "3acd0e65-db06-412d-b217-11b2df8bef30"
      },
      "outputs": [
        {
          "output_type": "stream",
          "name": "stdout",
          "text": [
            "Correlation: -0.1541611667500489\n",
            "P-value: 0.5163804640406469\n"
          ]
        }
      ],
      "source": [
        "import pandas as pd\n",
        "from scipy import stats\n",
        "\n",
        "# let's assume we have the following dataset\n",
        "data = {\n",
        "    'Variable_1': [5, 7, 8, 7, 2, 17, 2, 9, 4, 2, 5, 300, 2, 5, 7, 8, 2, 17, 2, 9],\n",
        "    'Variable_2': [99, 86, 87, 88, 111, 86, 103, 87, 94, 78, 77, 85, 86, 87, 110, 86, 103, 87, 94, 78]\n",
        "}\n",
        "\n",
        "df = pd.DataFrame(data)\n",
        "\n",
        "correlation, p_value = stats.pearsonr(df['Variable_1'], df['Variable_2'])\n",
        "\n",
        "print(f'Correlation: {correlation}')\n",
        "print(f'P-value: {p_value}')\n"
      ]
    }
  ]
}